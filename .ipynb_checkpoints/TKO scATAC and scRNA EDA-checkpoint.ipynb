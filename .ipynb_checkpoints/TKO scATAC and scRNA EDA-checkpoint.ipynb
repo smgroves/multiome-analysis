{
 "cells": [
  {
   "cell_type": "markdown",
   "metadata": {},
   "source": [
    "# Exploratory Data Analysis of Multiome Data (ATAC/RNA)"
   ]
  },
  {
   "cell_type": "code",
   "execution_count": 8,
   "metadata": {},
   "outputs": [],
   "source": [
    "wd <- \"/Users/smgroves/Box/multiome_data/M1/outs/\"\n",
    "setwd(wd)"
   ]
  },
  {
   "cell_type": "code",
   "execution_count": 12,
   "metadata": {},
   "outputs": [
    {
     "data": {
      "text/html": [
       "<table class=\"dataframe\">\n",
       "<caption>A data.frame: 5 × 8</caption>\n",
       "<thead>\n",
       "\t<tr><th></th><th scope=col>motif</th><th scope=col>p_val</th><th scope=col>avg_log2FC</th><th scope=col>pct.1</th><th scope=col>pct.2</th><th scope=col>p_val_adj</th><th scope=col>cluster</th><th scope=col>motif.name</th></tr>\n",
       "\t<tr><th></th><th scope=col>&lt;fct&gt;</th><th scope=col>&lt;dbl&gt;</th><th scope=col>&lt;dbl&gt;</th><th scope=col>&lt;dbl&gt;</th><th scope=col>&lt;dbl&gt;</th><th scope=col>&lt;dbl&gt;</th><th scope=col>&lt;int&gt;</th><th scope=col>&lt;fct&gt;</th></tr>\n",
       "</thead>\n",
       "<tbody>\n",
       "\t<tr><th scope=row>1</th><td>MA0003.4</td><td>0.000000e+00</td><td>1.8380705</td><td>0.811</td><td>0.386</td><td>0.000000e+00</td><td>0</td><td>TFAP2A</td></tr>\n",
       "\t<tr><th scope=row>2</th><td>MA0003.4</td><td>2.416092e-40</td><td>1.1619888</td><td>0.859</td><td>0.470</td><td>1.529386e-37</td><td>8</td><td>TFAP2A</td></tr>\n",
       "\t<tr><th scope=row>3</th><td>MA0009.2</td><td>7.252023e-42</td><td>0.5269881</td><td>0.638</td><td>0.472</td><td>4.590531e-39</td><td>1</td><td>TBXT  </td></tr>\n",
       "\t<tr><th scope=row>4</th><td>MA0009.2</td><td>4.939928e-44</td><td>0.7655466</td><td>0.713</td><td>0.479</td><td>3.126975e-41</td><td>4</td><td>TBXT  </td></tr>\n",
       "\t<tr><th scope=row>5</th><td>MA0014.3</td><td>7.174448e-05</td><td>0.5376176</td><td>0.582</td><td>0.486</td><td>4.541426e-02</td><td>8</td><td>PAX5  </td></tr>\n",
       "</tbody>\n",
       "</table>\n"
      ],
      "text/latex": [
       "A data.frame: 5 × 8\n",
       "\\begin{tabular}{r|llllllll}\n",
       "  & motif & p\\_val & avg\\_log2FC & pct.1 & pct.2 & p\\_val\\_adj & cluster & motif.name\\\\\n",
       "  & <fct> & <dbl> & <dbl> & <dbl> & <dbl> & <dbl> & <int> & <fct>\\\\\n",
       "\\hline\n",
       "\t1 & MA0003.4 & 0.000000e+00 & 1.8380705 & 0.811 & 0.386 & 0.000000e+00 & 0 & TFAP2A\\\\\n",
       "\t2 & MA0003.4 & 2.416092e-40 & 1.1619888 & 0.859 & 0.470 & 1.529386e-37 & 8 & TFAP2A\\\\\n",
       "\t3 & MA0009.2 & 7.252023e-42 & 0.5269881 & 0.638 & 0.472 & 4.590531e-39 & 1 & TBXT  \\\\\n",
       "\t4 & MA0009.2 & 4.939928e-44 & 0.7655466 & 0.713 & 0.479 & 3.126975e-41 & 4 & TBXT  \\\\\n",
       "\t5 & MA0014.3 & 7.174448e-05 & 0.5376176 & 0.582 & 0.486 & 4.541426e-02 & 8 & PAX5  \\\\\n",
       "\\end{tabular}\n"
      ],
      "text/markdown": [
       "\n",
       "A data.frame: 5 × 8\n",
       "\n",
       "| <!--/--> | motif &lt;fct&gt; | p_val &lt;dbl&gt; | avg_log2FC &lt;dbl&gt; | pct.1 &lt;dbl&gt; | pct.2 &lt;dbl&gt; | p_val_adj &lt;dbl&gt; | cluster &lt;int&gt; | motif.name &lt;fct&gt; |\n",
       "|---|---|---|---|---|---|---|---|---|\n",
       "| 1 | MA0003.4 | 0.000000e+00 | 1.8380705 | 0.811 | 0.386 | 0.000000e+00 | 0 | TFAP2A |\n",
       "| 2 | MA0003.4 | 2.416092e-40 | 1.1619888 | 0.859 | 0.470 | 1.529386e-37 | 8 | TFAP2A |\n",
       "| 3 | MA0009.2 | 7.252023e-42 | 0.5269881 | 0.638 | 0.472 | 4.590531e-39 | 1 | TBXT   |\n",
       "| 4 | MA0009.2 | 4.939928e-44 | 0.7655466 | 0.713 | 0.479 | 3.126975e-41 | 4 | TBXT   |\n",
       "| 5 | MA0014.3 | 7.174448e-05 | 0.5376176 | 0.582 | 0.486 | 4.541426e-02 | 8 | PAX5   |\n",
       "\n"
      ],
      "text/plain": [
       "  motif    p_val        avg_log2FC pct.1 pct.2 p_val_adj    cluster motif.name\n",
       "1 MA0003.4 0.000000e+00 1.8380705  0.811 0.386 0.000000e+00 0       TFAP2A    \n",
       "2 MA0003.4 2.416092e-40 1.1619888  0.859 0.470 1.529386e-37 8       TFAP2A    \n",
       "3 MA0009.2 7.252023e-42 0.5269881  0.638 0.472 4.590531e-39 1       TBXT      \n",
       "4 MA0009.2 4.939928e-44 0.7655466  0.713 0.479 3.126975e-41 4       TBXT      \n",
       "5 MA0014.3 7.174448e-05 0.5376176  0.582 0.486 4.541426e-02 8       PAX5      "
      ]
     },
     "metadata": {},
     "output_type": "display_data"
    }
   ],
   "source": [
    "motifs <- read.csv(\"TKO_motifs_labelled.csv\", row.names = 1)\n",
    "motifs[0:5,]"
   ]
  },
  {
   "cell_type": "code",
   "execution_count": 16,
   "metadata": {},
   "outputs": [
    {
     "name": "stderr",
     "output_type": "stream",
     "text": [
      "Warning message:\n",
      "“file ‘TKO_NE.rds’ has magic number 'X'\n",
      "  Use of save versions prior to 2 is deprecated”\n"
     ]
    },
    {
     "ename": "ERROR",
     "evalue": "Error in load(\"TKO_NE.rds\"): bad restore file magic number (file may be corrupted) -- no data loaded\n",
     "output_type": "error",
     "traceback": [
      "Error in load(\"TKO_NE.rds\"): bad restore file magic number (file may be corrupted) -- no data loaded\nTraceback:\n",
      "1. load(\"TKO_NE.rds\")"
     ]
    }
   ],
   "source": [
    "load('TKO_NE.rds')"
   ]
  },
  {
   "cell_type": "code",
   "execution_count": null,
   "metadata": {},
   "outputs": [],
   "source": []
  }
 ],
 "metadata": {
  "kernelspec": {
   "display_name": "R",
   "language": "R",
   "name": "ir"
  },
  "language_info": {
   "codemirror_mode": "r",
   "file_extension": ".r",
   "mimetype": "text/x-r-source",
   "name": "R",
   "pygments_lexer": "r",
   "version": "3.6.3"
  },
  "toc-autonumbering": true
 },
 "nbformat": 4,
 "nbformat_minor": 4
}
