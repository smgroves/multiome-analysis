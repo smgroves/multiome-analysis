{
 "cells": [
  {
   "cell_type": "markdown",
   "source": [
    "# M2: single cell PCHA"
   ],
   "metadata": {
    "collapsed": false
   }
  },
  {
   "cell_type": "code",
   "execution_count": null,
   "outputs": [],
   "source": [
    "# import mazebox as mb\n",
    "import scvelo as scv\n",
    "import scanpy as sc\n",
    "import os.path as op\n",
    "import pandas as pd\n",
    "import seaborn as sns\n",
    "import numpy as np\n",
    "import matplotlib.pyplot as plt\n",
    "import sys\n",
    "import dropkick as dk\n",
    "# make sure to use position 1\n",
    "sys.path.insert(1, \"/Users/smgroves/Documents/GitHub/Groves-CellSys2021/\")\n",
    "import mazebox as mb\n",
    "import cellrank as cr\n",
    "import scanorama\n",
    "from scipy.spatial.distance import squareform\n",
    "from scipy.sparse import issparse, csr_matrix, find\n",
    "from scipy.spatial.distance import pdist\n",
    "from py_pcha import PCHA\n",
    "from sklearn.utils import shuffle\n",
    "from matplotlib.colors import CenteredNorm"
   ],
   "metadata": {
    "collapsed": false,
    "pycharm": {
     "name": "#%%\n"
    }
   }
  },
  {
   "cell_type": "code",
   "execution_count": null,
   "outputs": [],
   "source": [
    "adata = sc.read_h5ad('../data/M2/adata_01_filtered.h5ad')"
   ],
   "metadata": {
    "collapsed": false,
    "pycharm": {
     "name": "#%%\n"
    }
   }
  },
  {
   "cell_type": "code",
   "execution_count": null,
   "outputs": [],
   "source": [
    "adata"
   ],
   "metadata": {
    "collapsed": false,
    "pycharm": {
     "name": "#%%\n"
    }
   }
  },
  {
   "cell_type": "code",
   "execution_count": null,
   "outputs": [],
   "source": [
    "adata = adata[adata.obs.dropna().index,]"
   ],
   "metadata": {
    "collapsed": false,
    "pycharm": {
     "name": "#%%\n"
    }
   }
  },
  {
   "cell_type": "code",
   "execution_count": null,
   "outputs": [],
   "source": [
    "adata"
   ],
   "metadata": {
    "collapsed": false,
    "pycharm": {
     "name": "#%%\n"
    }
   }
  },
  {
   "cell_type": "code",
   "execution_count": null,
   "outputs": [],
   "source": [
    "adata.write_h5ad('../data/M2/adata_01_small.h5ad')"
   ],
   "metadata": {
    "collapsed": false,
    "pycharm": {
     "name": "#%%\n"
    }
   }
  },
  {
   "cell_type": "markdown",
   "source": [
    "## MAGIC"
   ],
   "metadata": {
    "collapsed": false
   }
  },
  {
   "cell_type": "code",
   "execution_count": null,
   "outputs": [],
   "source": [
    "import magic\n",
    "# import pandas as pd\n",
    "# import matplotlib.pyplot as plt\n",
    "magic_operator = magic.MAGIC(solver='approximate')\n",
    "X_magic = magic_operator.fit_transform(adata)\n"
   ],
   "metadata": {
    "collapsed": false,
    "pycharm": {
     "name": "#%%\n"
    }
   }
  },
  {
   "cell_type": "code",
   "execution_count": null,
   "outputs": [],
   "source": [
    "sc.pp.pca(X_magic)"
   ],
   "metadata": {
    "collapsed": false,
    "pycharm": {
     "name": "#%%\n"
    }
   }
  },
  {
   "cell_type": "code",
   "execution_count": null,
   "outputs": [],
   "source": [
    "sc.pl.pca(X_magic, color='Ascl1')"
   ],
   "metadata": {
    "collapsed": false,
    "pycharm": {
     "name": "#%%\n"
    }
   }
  },
  {
   "cell_type": "code",
   "execution_count": null,
   "outputs": [],
   "source": [
    "scv.pp.neighbors(X_magic, random_state=0)\n",
    "scv.tl.umap(X_magic, random_state=0)"
   ],
   "metadata": {
    "collapsed": false,
    "pycharm": {
     "name": "#%%\n"
    }
   }
  },
  {
   "cell_type": "code",
   "execution_count": null,
   "outputs": [],
   "source": [
    "scv.pl.umap(X_magic, color = 'Ascl1')"
   ],
   "metadata": {
    "collapsed": false,
    "pycharm": {
     "name": "#%%\n"
    }
   }
  },
  {
   "cell_type": "code",
   "execution_count": null,
   "outputs": [],
   "source": [
    "scv.pl.umap(X_magic, color = 'identity', legend_loc = 'on right', palette='tab20')"
   ],
   "metadata": {
    "collapsed": false,
    "pycharm": {
     "name": "#%%\n"
    }
   }
  },
  {
   "cell_type": "code",
   "execution_count": null,
   "outputs": [],
   "source": [
    "sc.pl.pca_variance_ratio(X_magic)"
   ],
   "metadata": {
    "collapsed": false,
    "pycharm": {
     "name": "#%%\n"
    }
   }
  },
  {
   "cell_type": "code",
   "execution_count": null,
   "outputs": [],
   "source": [
    "pca_var = X_magic.uns['pca']['variance_ratio']\n",
    "var_explained = .90\n",
    "tot_exp_var = 0\n",
    "n = 0\n",
    "for i in pca_var:\n",
    "    n +=1\n",
    "    tot_exp_var += i\n",
    "    if tot_exp_var > var_explained: \n",
    "        print(n+1, \"PCs explain at least\", var_explained*100, \"percent of the variance\")\n",
    "        break"
   ],
   "metadata": {
    "collapsed": false,
    "pycharm": {
     "name": "#%%\n"
    }
   }
  },
  {
   "cell_type": "code",
   "execution_count": null,
   "outputs": [],
   "source": [
    "def cumulative(var):\n",
    "    cum_var = []\n",
    "    tot_sum = 0\n",
    "    for i in var:\n",
    "        tot_sum += i\n",
    "        cum_var.append(tot_sum)\n",
    "    return cum_var\n"
   ],
   "metadata": {
    "collapsed": false,
    "pycharm": {
     "name": "#%%\n"
    }
   }
  },
  {
   "cell_type": "code",
   "execution_count": null,
   "outputs": [],
   "source": [
    "cum_var = cumulative(pca_var)\n",
    "cum_var[7]"
   ],
   "metadata": {
    "collapsed": false,
    "pycharm": {
     "name": "#%%\n"
    }
   }
  },
  {
   "cell_type": "code",
   "execution_count": null,
   "outputs": [],
   "source": [
    "def find_knee_varexpl(cum_var):\n",
    "    farthestk = 0\n",
    "    for i in range(50):\n",
    "        #find distance of point p3 from line between p1 and p2\n",
    "        p1=np.array([0,cum_var[0]])\n",
    "        p2=np.array([49,cum_var[49]])\n",
    "        p3=np.array([i,cum_var[i]])\n",
    "        k = (np.cross(p2-p1,p3-p1)/np.linalg.norm(p2-p1))\n",
    "\n",
    "        #knee is farthest away from line between p1 and p2\n",
    "        if k > farthestk: \n",
    "            farthestk = k\n",
    "            knee = i\n",
    "    return knee +1 # number of components is 1 more than index\n",
    "print(\"Knee of EV vs PC plot: \",find_knee_varexpl(cum_var))"
   ],
   "metadata": {
    "collapsed": false,
    "pycharm": {
     "name": "#%%\n"
    }
   }
  },
  {
   "cell_type": "code",
   "execution_count": null,
   "outputs": [],
   "source": [
    "X_magic.write_h5ad('../data/M2/X_magic_02.h5ad')"
   ],
   "metadata": {
    "collapsed": false,
    "pycharm": {
     "name": "#%%\n"
    }
   }
  },
  {
   "cell_type": "markdown",
   "source": [
    "## PCHA "
   ],
   "metadata": {
    "collapsed": false
   }
  },
  {
   "cell_type": "code",
   "execution_count": null,
   "outputs": [],
   "source": [
    "!pip install py_pcha"
   ],
   "metadata": {
    "collapsed": false,
    "pycharm": {
     "name": "#%%\n"
    }
   }
  },
  {
   "cell_type": "code",
   "execution_count": null,
   "outputs": [],
   "source": [
    "def find_knee(ev_per_arc, kmax):\n",
    "    farthestk = 0\n",
    "    for i in range(3,kmax):\n",
    "        #find distance of point p3 from line between p1 and p2\n",
    "        p1=np.array([3,ev_per_arc[0]])\n",
    "        p2=np.array([kmax,ev_per_arc[kmax-3]])\n",
    "        p3=np.array([i,ev_per_arc[i-3]])\n",
    "        k = (np.cross(p2-p1,p3-p1)/np.linalg.norm(p2-p1))\n",
    "\n",
    "        #knee is farthest away from line between p1 and p2\n",
    "        if k > farthestk: \n",
    "            farthestk = k\n",
    "            knee = i\n",
    "    print(\"K* =\",knee, \"archetypes, distance between k* and line: \",np.round(farthestk,2))\n",
    "    return knee, farthestk"
   ],
   "metadata": {
    "collapsed": false,
    "pycharm": {
     "name": "#%%\n"
    }
   }
  },
  {
   "cell_type": "markdown",
   "source": [
    "# PCHA on data without doublets"
   ],
   "metadata": {
    "collapsed": false
   }
  },
  {
   "cell_type": "code",
   "execution_count": null,
   "outputs": [],
   "source": [
    "# pca_var = X_magic_no_doublets.uns['pca']['variance_ratio']\n",
    "# cum_var = cumulative(pca_var)\n",
    "\n",
    "# print(\"Knee of EV vs PC plot: \",find_knee_varexpl(cum_var))"
   ],
   "metadata": {
    "collapsed": false,
    "pycharm": {
     "name": "#%%\n"
    }
   }
  },
  {
   "cell_type": "code",
   "execution_count": null,
   "outputs": [],
   "source": [
    "ev_per_arc = []\n",
    "for i in range(3,11):\n",
    "    XC, S, C, SSE, varexpl = PCHA(X_magic.obsm['X_pca'].T, noc=i, delta=0.1)\n",
    "    ev_per_arc.append(varexpl)\n",
    "    # print(varexpl)\n",
    "plt.scatter(x = [3,4,5,6,7,8,9,10], y = ev_per_arc)\n",
    "plt.title(f\"EV per $k^*$ archetypes on 10 component PCA projection, delta = 0.1\")\n",
    "plt.xlabel(\"Number of archetypes\")\n",
    "plt.ylabel(\"EV fraction\")\n",
    "print(\"Knee in EV vs k plot for different k_max:\")\n",
    "for kmax in range(8,11):\n",
    "    print('k_max =', kmax)\n",
    "    knee, farthestk = find_knee(ev_per_arc, kmax=kmax)\n",
    "plt.axvline(x=knee, linestyle = \"--\")\n",
    "plt.show()"
   ],
   "metadata": {
    "collapsed": false,
    "pycharm": {
     "name": "#%%\n"
    }
   }
  },
  {
   "cell_type": "code",
   "execution_count": null,
   "outputs": [],
   "source": [
    "XC, S, C, SSE, varexpl = PCHA(X_magic.obsm['X_pca'][:,0:8].T, noc=5, delta=0)\n",
    "XC = np.array(XC)\n",
    "for components in ['1,2','1,3','2,3']:\n",
    "    scv.pl.pca(X_magic, color = 'Ascl1', components=components, show=False, figsize= (6,6), frameon=True)\n",
    "    comp = components.split(',')\n",
    "    plt.scatter(XC[int(comp[0])-1], XC[int(comp[1])-1], color = 'green', s = 400)\n",
    "    plt.xlabel(\"PC\"+comp[0])\n",
    "    plt.ylabel(\"PC\"+comp[1])\n",
    "\n",
    "    plt.show()"
   ],
   "metadata": {
    "collapsed": false,
    "pycharm": {
     "name": "#%%\n"
    }
   }
  },
  {
   "cell_type": "markdown",
   "source": [
    "## Labeling cells based on diffusion distance to archetypes\n",
    "From Van Dijk et al:\n",
    "An archetype is a weighted sum of cells, which allows us to construct archetypal-neighborhoods, consisting of cells most similar to the archetype. The neighborhoods are constructed by assigning cells to their nearest archetype based on the diffusion distance, as long as this distance is within a bounded proximity from the archetype. Diffusion distance is defined as the Euclidean distance on the diffusion map representation of the data, i.e., using diffusion components as a coordinate system (Nadler et al., 2006), denoted by DM(t)."
   ],
   "metadata": {
    "collapsed": false
   }
  },
  {
   "cell_type": "code",
   "execution_count": null,
   "outputs": [],
   "source": [
    "XC_df = pd.DataFrame(XC)\n",
    "XC_df.columns = ['Arc_1','Arc_2','Arc_3','Arc_4','Arc_5']\n"
   ],
   "metadata": {
    "collapsed": false,
    "pycharm": {
     "name": "#%%\n"
    }
   }
  },
  {
   "cell_type": "code",
   "execution_count": null,
   "outputs": [],
   "source": [
    "X_magic_pca_df = pd.DataFrame(X_magic.obsm['X_pca'][:,0:8], index = X_magic.obs_names)\n",
    "X_magic_full_df = X_magic_pca_df.append(XC_df.T)\n",
    "X_magic_full_df.head()"
   ],
   "metadata": {
    "collapsed": false,
    "pycharm": {
     "name": "#%%\n"
    }
   }
  },
  {
   "cell_type": "code",
   "execution_count": null,
   "outputs": [],
   "source": [
    "pdx = squareform(pdist(X_magic_full_df, metric='euclidean')) # compute distances on pca\n",
    "pdx_df = pd.DataFrame(pdx, index=X_magic_full_df.index, columns=X_magic_full_df.index)\n",
    "pdx_df = pdx_df.loc[XC_df.columns].drop(XC_df.columns, axis = 1)\n",
    "X_magic.obsm['arc_distance'] = pdx_df.T"
   ],
   "metadata": {
    "collapsed": false,
    "pycharm": {
     "name": "#%%\n"
    }
   }
  },
  {
   "cell_type": "markdown",
   "source": [
    "Now that we have a euclidean distance to each archetype on the MAGIC imputed data, we can find a neighborhood with arbritrary radius to classify cells closest to each archetype as specialists. In Van Dijk et al., they choose a radius (distance on diffusion map) that is 1/2 the minimum of the distance between archetypes."
   ],
   "metadata": {
    "collapsed": false
   }
  },
  {
   "cell_type": "code",
   "execution_count": null,
   "outputs": [],
   "source": [
    "pdx_archetypes = squareform(pdist(XC_df.T, metric='euclidean')) # compute distances on pca\n",
    "\n",
    "radius = .5*pdx_archetypes[pdx_archetypes > 0].min()"
   ],
   "metadata": {
    "collapsed": false,
    "pycharm": {
     "name": "#%%\n"
    }
   }
  },
  {
   "cell_type": "code",
   "execution_count": null,
   "outputs": [],
   "source": [
    "tmp = X_magic.obsm['arc_distance'].copy()"
   ],
   "metadata": {
    "collapsed": false,
    "pycharm": {
     "name": "#%%\n"
    }
   }
  },
  {
   "cell_type": "code",
   "execution_count": null,
   "outputs": [],
   "source": [
    "# percent_radius = .1 # in percentage of datapoints; radius = .1 means 10% closest cells to each archetype\n",
    "\n",
    "for arc in  X_magic.obsm['arc_distance'].columns:\n",
    "    closest = X_magic.obsm['arc_distance'].loc[X_magic.obsm['arc_distance'][arc].sort_values() < radius]\n",
    "    tmp.loc[closest.index,'specialist'] = arc\n"
   ],
   "metadata": {
    "collapsed": false,
    "pycharm": {
     "name": "#%%\n"
    }
   }
  },
  {
   "cell_type": "code",
   "execution_count": null,
   "outputs": [],
   "source": [
    "tmp.specialist"
   ],
   "metadata": {
    "collapsed": false,
    "pycharm": {
     "name": "#%%\n"
    }
   }
  },
  {
   "cell_type": "code",
   "execution_count": null,
   "outputs": [],
   "source": [
    "X_magic.obs['specialists_pca_diffdist'] = tmp.specialist"
   ],
   "metadata": {
    "collapsed": false,
    "pycharm": {
     "name": "#%%\n"
    }
   }
  },
  {
   "cell_type": "code",
   "execution_count": null,
   "outputs": [],
   "source": [
    "X_magic.obs.info()"
   ],
   "metadata": {
    "collapsed": false,
    "pycharm": {
     "name": "#%%\n"
    }
   }
  },
  {
   "cell_type": "markdown",
   "source": [
    "## Labeling by PCHA"
   ],
   "metadata": {
    "collapsed": false
   }
  },
  {
   "cell_type": "code",
   "execution_count": null,
   "outputs": [],
   "source": [
    "for i in range(5):\n",
    "    scv.pl.umap(X_magic, c = S[i,:].T, components='1,2', show=False, figsize= (5,5), frameon=True, cmap = 'RdBu')\n",
    "    plt.title(f\"Archetype {i}\")\n",
    "    plt.savefig(f'./figures/{i}_scPCHA_pca.pdf')"
   ],
   "metadata": {
    "collapsed": false,
    "pycharm": {
     "name": "#%%\n"
    }
   }
  },
  {
   "cell_type": "code",
   "execution_count": null,
   "outputs": [],
   "source": [
    "S_df = pd.DataFrame(S.T)"
   ],
   "metadata": {
    "collapsed": false,
    "pycharm": {
     "name": "#%%\n"
    }
   }
  },
  {
   "cell_type": "code",
   "execution_count": null,
   "outputs": [],
   "source": [
    "S_df.index = X_magic.obs_names"
   ],
   "metadata": {
    "collapsed": false,
    "pycharm": {
     "name": "#%%\n"
    }
   }
  },
  {
   "cell_type": "code",
   "execution_count": null,
   "outputs": [],
   "source": [
    "X_magic.obsm['py_pcha_S'] = S.T"
   ],
   "metadata": {
    "collapsed": false,
    "pycharm": {
     "name": "#%%\n"
    }
   }
  },
  {
   "cell_type": "code",
   "execution_count": null,
   "outputs": [],
   "source": [
    "X_magic"
   ],
   "metadata": {
    "collapsed": false,
    "pycharm": {
     "name": "#%%\n"
    }
   }
  },
  {
   "cell_type": "markdown",
   "source": [
    "# Write out data"
   ],
   "metadata": {
    "collapsed": false
   }
  },
  {
   "cell_type": "code",
   "execution_count": null,
   "outputs": [],
   "source": [
    "adata.write_h5ad('../data/M2/adata_02_filtered.h5ad')"
   ],
   "metadata": {
    "collapsed": false,
    "pycharm": {
     "name": "#%%\n"
    }
   }
  },
  {
   "cell_type": "code",
   "execution_count": null,
   "outputs": [],
   "source": [
    "X_magic.write_h5ad(\"../data/M2/X_magic_02_filtered.h5ad\")"
   ],
   "metadata": {
    "collapsed": false,
    "pycharm": {
     "name": "#%%\n"
    }
   }
  },
  {
   "cell_type": "markdown",
   "source": [
    "## Write out data for ParetoTI \n",
    "T ratio calculation and comparison of single cell archetypes to bulk archetypes using enrichments\n"
   ],
   "metadata": {
    "collapsed": false
   }
  },
  {
   "cell_type": "markdown",
   "source": [
    "We will run archetype analysis using ParetoTI, and compare the single cell and bulk archetypes using the Hausser code (hypergeometric tests on enrichments). We will use the PCA of the MAGIC imputed data."
   ],
   "metadata": {
    "collapsed": false
   }
  },
  {
   "cell_type": "code",
   "execution_count": null,
   "outputs": [],
   "source": [
    "X_magic_for_R = X_magic.copy()"
   ],
   "metadata": {
    "collapsed": false,
    "pycharm": {
     "name": "#%%\n"
    }
   }
  },
  {
   "cell_type": "code",
   "execution_count": null,
   "outputs": [],
   "source": [
    "X_magic_for_R"
   ],
   "metadata": {
    "collapsed": false,
    "pycharm": {
     "name": "#%%\n"
    }
   }
  },
  {
   "cell_type": "code",
   "execution_count": null,
   "outputs": [],
   "source": [
    "#Get rid of arc_distance, which causes a problem in R\n",
    "X_magic_for_R.obsm = {'X_pca':X_magic_for_R.obsm['X_pca']}"
   ],
   "metadata": {
    "collapsed": false,
    "pycharm": {
     "name": "#%%\n"
    }
   }
  },
  {
   "cell_type": "code",
   "execution_count": null,
   "outputs": [],
   "source": [
    "# for col in ['specialists_pca_diffdist']:\n",
    "#     X_magic_for_R.obs[col]=X_magic_for_R.obs[col].cat.add_categories(\"Unknown\").fillna('Unknown')"
   ],
   "metadata": {
    "collapsed": false,
    "pycharm": {
     "name": "#%%\n"
    }
   }
  },
  {
   "cell_type": "code",
   "execution_count": null,
   "outputs": [],
   "source": [
    "X_magic_for_R.obs.isnull().values.any()"
   ],
   "metadata": {
    "collapsed": false,
    "pycharm": {
     "name": "#%%\n"
    }
   }
  },
  {
   "cell_type": "code",
   "execution_count": null,
   "outputs": [],
   "source": [
    "X_magic_for_R.obs.info()"
   ],
   "metadata": {
    "collapsed": false,
    "pycharm": {
     "name": "#%%\n"
    }
   }
  },
  {
   "cell_type": "code",
   "execution_count": null,
   "outputs": [],
   "source": [
    "X_magic_for_R.write_h5ad(\"../data/M2/X_magic_for_R_filtered.h5ad\")\n"
   ],
   "metadata": {
    "collapsed": false,
    "pycharm": {
     "name": "#%%\n"
    }
   }
  }
 ],
 "metadata": {
  "kernelspec": {
   "display_name": "Python 3 (ipykernel)",
   "language": "python",
   "name": "python3"
  },
  "language_info": {
   "codemirror_mode": {
    "name": "ipython",
    "version": 3
   },
   "file_extension": ".py",
   "mimetype": "text/x-python",
   "name": "python",
   "nbconvert_exporter": "python",
   "pygments_lexer": "ipython3",
   "version": "3.9.6"
  },
  "toc-autonumbering": true
 },
 "nbformat": 4,
 "nbformat_minor": 4
}