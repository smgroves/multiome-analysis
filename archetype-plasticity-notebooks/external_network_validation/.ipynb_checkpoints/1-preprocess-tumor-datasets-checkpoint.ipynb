{
 "cells": [
  {
   "cell_type": "markdown",
   "id": "3446eff4-f494-4963-97a9-d39e5befaf4b",
   "metadata": {},
   "source": [
    "# Additional tumor samples for external validation of network"
   ]
  },
  {
   "cell_type": "markdown",
   "id": "9b26df49-8c9e-4c77-8ea8-cd0f71e61355",
   "metadata": {},
   "source": [
    "We would like to test whether the network (and its attractors) is robust in other datasets, including human tumors. Here, we'll preprocess several different tumor datasets to be processed with `preprocess_adata.py` and used in the BooleaBayes code for validation."
   ]
  },
  {
   "cell_type": "code",
   "execution_count": 13,
   "id": "6b7e143e-9644-45ad-bdf9-dc4f5f6118d6",
   "metadata": {},
   "outputs": [],
   "source": [
    "import scvelo as scv\n",
    "import scanpy as sc\n",
    "import os.path as op\n",
    "import pandas as pd\n",
    "import seaborn as sns\n",
    "import numpy as np\n",
    "import matplotlib.pyplot as plt\n",
    "import sys\n",
    "import dropkick as dk\n",
    "import mazebox as mb\n",
    "import cellrank as cr\n",
    "import scanorama\n",
    "from py_pcha import PCHA\n",
    "from sklearn.utils import shuffle\n",
    "from matplotlib.colors import CenteredNorm\n",
    "import mazebox as mb"
   ]
  },
  {
   "cell_type": "code",
   "execution_count": 4,
   "id": "9d16f127-7d71-46b5-ba90-6490b2f88881",
   "metadata": {},
   "outputs": [
    {
     "name": "stderr",
     "output_type": "stream",
     "text": [
      "OMP: Info #271: omp_set_nested routine deprecated, please use omp_set_max_active_levels instead.\n",
      "Variable names are not unique. To make them unique, call `.var_names_make_unique`.\n",
      "... storing 'Chromosome' as categorical\n",
      "... storing 'Strand' as categorical\n",
      "Variable names are not unique. To make them unique, call `.var_names_make_unique`.\n",
      "... storing 'Chromosome' as categorical\n",
      "... storing 'Strand' as categorical\n",
      "Variable names are not unique. To make them unique, call `.var_names_make_unique`.\n",
      "... storing 'Chromosome' as categorical\n",
      "... storing 'Strand' as categorical\n",
      "Variable names are not unique. To make them unique, call `.var_names_make_unique`.\n",
      "... storing 'Chromosome' as categorical\n",
      "... storing 'Strand' as categorical\n",
      "Variable names are not unique. To make them unique, call `.var_names_make_unique`.\n",
      "... storing 'Chromosome' as categorical\n",
      "... storing 'Strand' as categorical\n",
      "Variable names are not unique. To make them unique, call `.var_names_make_unique`.\n",
      "... storing 'Chromosome' as categorical\n",
      "... storing 'Strand' as categorical\n",
      "Variable names are not unique. To make them unique, call `.var_names_make_unique`.\n",
      "... storing 'Chromosome' as categorical\n",
      "... storing 'Strand' as categorical\n",
      "Variable names are not unique. To make them unique, call `.var_names_make_unique`.\n",
      "... storing 'Chromosome' as categorical\n",
      "... storing 'Strand' as categorical\n",
      "Variable names are not unique. To make them unique, call `.var_names_make_unique`.\n",
      "... storing 'Chromosome' as categorical\n",
      "... storing 'Strand' as categorical\n",
      "Variable names are not unique. To make them unique, call `.var_names_make_unique`.\n",
      "... storing 'Chromosome' as categorical\n",
      "... storing 'Strand' as categorical\n",
      "Variable names are not unique. To make them unique, call `.var_names_make_unique`.\n",
      "... storing 'Chromosome' as categorical\n",
      "... storing 'Strand' as categorical\n",
      "Variable names are not unique. To make them unique, call `.var_names_make_unique`.\n",
      "... storing 'Chromosome' as categorical\n",
      "... storing 'Strand' as categorical\n"
     ]
    }
   ],
   "source": [
    "indir = \"../../data/external_validation_looms/\"\n",
    "\n",
    "samples = ['YN1','YN2','YN3','YN5','YN6','YN7','YN8','YN9','YN10','YN11','YN12','YN13']\n",
    "[a1,a2,a3,a4,a5,a6,a7,a8,a9,a10,a11,a12] = [mb.pp.read_loom(f\"possorted_genome_bam_{sample}\", indir) for sample in samples]\n"
   ]
  },
  {
   "cell_type": "code",
   "execution_count": 5,
   "id": "32d8facb-8abd-42b7-b9a6-f1861dc4cd6c",
   "metadata": {},
   "outputs": [],
   "source": [
    "network_genes = pd.read_csv(\"../../network-inference-DIRECT-NET/networks/DIRECT-NET_network_with_FIGR_threshold_0_no_NEUROG2_top8regs_NO_sinks_NOCD24_expanded.csv\", header = None)"
   ]
  },
  {
   "cell_type": "code",
   "execution_count": 11,
   "id": "9c17f30c-ccc9-4b79-96b0-7bc921ad1c9e",
   "metadata": {},
   "outputs": [],
   "source": [
    "network_genes = network_genes.dropna(axis = 1)\n",
    "retain_genes = list(set(network_genes[0]).union(set(network_genes[1])))"
   ]
  },
  {
   "cell_type": "code",
   "execution_count": 12,
   "id": "70d0b5ee-0014-466a-b1c7-0e71090a0233",
   "metadata": {},
   "outputs": [
    {
     "ename": "TypeError",
     "evalue": "dropkick_recipe() got an unexpected keyword argument 'scale'",
     "output_type": "error",
     "traceback": [
      "\u001b[0;31m---------------------------------------------------------------------------\u001b[0m",
      "\u001b[0;31mTypeError\u001b[0m                                 Traceback (most recent call last)",
      "\u001b[0;32m/var/folders/vh/xk34gq593k53lzm7wlyg64xw0000gn/T/ipykernel_80524/1070047629.py\u001b[0m in \u001b[0;36m<module>\u001b[0;34m\u001b[0m\n\u001b[1;32m      6\u001b[0m \u001b[0;34m\u001b[0m\u001b[0m\n\u001b[1;32m      7\u001b[0m \u001b[0;34m\u001b[0m\u001b[0m\n\u001b[0;32m----> 8\u001b[0;31m adata = mb.pp.dropkick_recipe(adatas, verbose=False, batch_categories = batch_categories, batch_key = batch_key,\n\u001b[0m\u001b[1;32m      9\u001b[0m                                                 \u001b[0mX_final\u001b[0m \u001b[0;34m=\u001b[0m \u001b[0;34m'log1p_norm'\u001b[0m\u001b[0;34m,\u001b[0m\u001b[0mplot\u001b[0m \u001b[0;34m=\u001b[0m \u001b[0;32mFalse\u001b[0m\u001b[0;34m,\u001b[0m \u001b[0mscale\u001b[0m \u001b[0;34m=\u001b[0m \u001b[0;32mFalse\u001b[0m\u001b[0;34m,\u001b[0m \u001b[0mfilter\u001b[0m \u001b[0;34m=\u001b[0m \u001b[0;32mFalse\u001b[0m\u001b[0;34m,\u001b[0m\u001b[0;34m\u001b[0m\u001b[0;34m\u001b[0m\u001b[0m\n\u001b[1;32m     10\u001b[0m                                                 retain_genes=retain_genes)\n",
      "\u001b[0;31mTypeError\u001b[0m: dropkick_recipe() got an unexpected keyword argument 'scale'"
     ]
    }
   ],
   "source": [
    "batch_categories = samples\n",
    "batch_key = 'tumor'\n",
    "\n",
    "# adata = a1.concatenate([a2,a3,a4,a5,a6,a7,a8,a9,a10,a11], batch_key=batch_key, batch_categories=batch_categories)\n",
    "adatas = [a1,a2,a3,a4,a5,a6,a7,a8, a9, a10, a11, a12] \n",
    "\n",
    "\n",
    "adata = mb.pp.dropkick_recipe(adatas, verbose=False, batch_categories = batch_categories, batch_key = batch_key,\n",
    "                                                X_final = 'log1p_norm',plot = False, scale = False, filter = False,\n",
    "                                                retain_genes=retain_genes)"
   ]
  },
  {
   "cell_type": "code",
   "execution_count": null,
   "id": "a64a6a64-7ddf-4b5a-ac9b-5e05af9d5253",
   "metadata": {},
   "outputs": [],
   "source": [
    "mb.pp.scanorama_recipe(adata, groups = 'tumor', correct = True, basis = 'umap')\n"
   ]
  }
 ],
 "metadata": {
  "kernelspec": {
   "display_name": "Python 3 (ipykernel)",
   "language": "python",
   "name": "python3"
  },
  "language_info": {
   "codemirror_mode": {
    "name": "ipython",
    "version": 3
   },
   "file_extension": ".py",
   "mimetype": "text/x-python",
   "name": "python",
   "nbconvert_exporter": "python",
   "pygments_lexer": "ipython3",
   "version": "3.9.6"
  }
 },
 "nbformat": 4,
 "nbformat_minor": 5
}
