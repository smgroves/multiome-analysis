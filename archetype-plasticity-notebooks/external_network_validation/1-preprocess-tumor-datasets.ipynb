{
 "cells": [
  {
   "cell_type": "markdown",
   "id": "3446eff4-f494-4963-97a9-d39e5befaf4b",
   "metadata": {},
   "source": [
    "# Additional tumor samples for external validation of network"
   ]
  },
  {
   "cell_type": "markdown",
   "id": "9b26df49-8c9e-4c77-8ea8-cd0f71e61355",
   "metadata": {},
   "source": [
    "We would like to test whether the network (and its attractors) is robust in other datasets, including human tumors. Here, we'll preprocess several different tumor datasets to be processed with `preprocess_adata.py` and used in the BooleaBayes code for validation."
   ]
  },
  {
   "cell_type": "code",
   "execution_count": 1,
   "id": "6b7e143e-9644-45ad-bdf9-dc4f5f6118d6",
   "metadata": {},
   "outputs": [],
   "source": [
    "import scvelo as scv\n",
    "import scanpy as sc\n",
    "import os.path as op\n",
    "import pandas as pd\n",
    "import seaborn as sns\n",
    "import numpy as np\n",
    "import matplotlib.pyplot as plt\n",
    "import sys\n",
    "import dropkick as dk\n",
    "import mazebox as mb\n",
    "import cellrank as cr\n",
    "import scanorama\n",
    "from py_pcha import PCHA\n",
    "from sklearn.utils import shuffle\n",
    "from matplotlib.colors import CenteredNorm"
   ]
  },
  {
   "cell_type": "code",
   "execution_count": null,
   "id": "9d16f127-7d71-46b5-ba90-6490b2f88881",
   "metadata": {},
   "outputs": [],
   "source": []
  }
 ],
 "metadata": {
  "kernelspec": {
   "display_name": "Python 3 (ipykernel)",
   "language": "python",
   "name": "python3"
  },
  "language_info": {
   "codemirror_mode": {
    "name": "ipython",
    "version": 3
   },
   "file_extension": ".py",
   "mimetype": "text/x-python",
   "name": "python",
   "nbconvert_exporter": "python",
   "pygments_lexer": "ipython3",
   "version": "3.9.6"
  }
 },
 "nbformat": 4,
 "nbformat_minor": 5
}
